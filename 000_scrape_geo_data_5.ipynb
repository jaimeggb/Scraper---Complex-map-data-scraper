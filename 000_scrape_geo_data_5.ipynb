{
 "cells": [
  {
   "cell_type": "markdown",
   "id": "8fe43863",
   "metadata": {},
   "source": [
    "# Complex map data scraper\n",
    "### Complexity lies in having to call the map data API many times from different coordinates, and in having a data limit per API call (1000 data json dictionaries/1000 mobile towers)\n",
    "###### This is the map: https://geoportal.minetur.gob.es/VCTEL/vcne.do"
   ]
  },
  {
   "cell_type": "code",
   "execution_count": 1,
   "id": "9bade254",
   "metadata": {},
   "outputs": [],
   "source": [
    "import requests\n",
    "import urllib.request, urllib.parse, urllib.error\n",
    "import json\n",
    "import sqlite3\n",
    "import ssl\n",
    "import time\n",
    "from ast import literal_eval\n",
    "import csv\n",
    "import os"
   ]
  },
  {
   "cell_type": "code",
   "execution_count": 2,
   "id": "e12c7082",
   "metadata": {},
   "outputs": [],
   "source": [
    "# bL_lat = -8.84892992\n",
    "# bL_lon = 35.74657448\n",
    "# tR_lat = 6.49954908\n",
    "# tR_lon = 44.78973632\n",
    "# These coordinates go from the bottom left of the spanish peninsula\n",
    "# all the way streching out to Grenoble, France, in order to include\n",
    "# the Balearic islands. The Canary islands are not included (to avoid excessive\n",
    "# empty API calls across between the Canary Islands and Spain)\n",
    "\n",
    "def get_data_from_api(bL_lat, bL_lon, tR_lat, tR_lon):\n",
    "    headers = {\n",
    "        'Connection': 'keep-alive',\n",
    "        'sec-ch-ua': '\"Google Chrome\";v=\"93\", \" Not;A Brand\";v=\"99\", \"Chromium\";v=\"93\"',\n",
    "        'sec-ch-ua-mobile': '?0',\n",
    "        'User-Agent': 'Mozilla/5.0 (Windows NT 10.0; Win64; x64) AppleWebKit/537.36 (KHTML, like Gecko) Chrome/93.0.4577.82 Safari/537.36',\n",
    "        'sec-ch-ua-platform': '\"Windows\"',\n",
    "        'Accept': '*/*',\n",
    "        'Sec-Fetch-Site': 'same-origin',\n",
    "        'Sec-Fetch-Mode': 'cors',\n",
    "        'Sec-Fetch-Dest': 'empty',\n",
    "        'Referer': 'https://geoportal.minetur.gob.es/VCTEL/vcne.do',\n",
    "        'Accept-Language': 'en-GB-oxendict,en;q=0.9,es-ES;q=0.8,es;q=0.7',\n",
    "    }\n",
    "    params = (\n",
    "        ('idCapa', 'null'),\n",
    "        ('bbox', f'{bL_lat}, {bL_lon}, {tR_lat}, {tR_lon}'), \n",
    "        ('zoom', '4'),\n",
    "    )\n",
    "    response = requests.get('https://geoportal.minetur.gob.es/VCTEL/infoantenasGeoJSON.do', headers=headers, params=params)\n",
    "    return response.json()"
   ]
  },
  {
   "cell_type": "code",
   "execution_count": 3,
   "id": "b0b8c7d5",
   "metadata": {},
   "outputs": [
    {
     "data": {
      "text/plain": [
       "<sqlite3.Cursor at 0x15f9365b110>"
      ]
     },
     "execution_count": 3,
     "metadata": {},
     "output_type": "execute_result"
    }
   ],
   "source": [
    "# Create sqlite database to save data in there (so when code crashes, data is saved and so can keep going from there)\n",
    "conn = sqlite3.connect('scrapedgeodatadb.sqlite', timeout= 20)\n",
    "cur = conn.cursor()\n",
    "cur.execute('''CREATE TABLE IF NOT EXISTS scrapedgeodatadb (id TEXT, data TEXT, UNIQUE(id, data))''') "
   ]
  },
  {
   "cell_type": "code",
   "execution_count": 4,
   "id": "968cbdbf",
   "metadata": {},
   "outputs": [],
   "source": [
    "def scrape_data_from_given_area(start_lat, start_lon, end_lat, end_lon, lat_jump, lon_jump):\n",
    "    current_lat = start_lat\n",
    "    current_lon = start_lon\n",
    "    start_time = time.time()\n",
    "    while current_lon < end_lon:\n",
    "        while current_lat < end_lat:\n",
    "            a = str(get_data_from_api(current_lat, current_lon, current_lat + lat_jump, current_lon + lon_jump)) #SQLite\n",
    "            b = str(str(current_lat) + ', ' +str(current_lon))\n",
    "            print(current_lat, current_lon, end='\\r')\n",
    "            if a != '{}':\n",
    "                cur.execute(\"INSERT INTO scrapedgeodatadb VALUES (?, ?)\", [b,a]) #SQLite\n",
    "                conn.commit() #SQLite\n",
    "            current_lat += lat_jump\n",
    "        pcg_cmn_dec = round((current_lon - start_lon+0.1) / (end_lon - start_lon),2)\n",
    "        pcg_cmn_str = str(pcg_cmn_dec*100) + '%'\n",
    "        current_time = time.time()\n",
    "        elapsed_time_hrs = (current_time+0.001 - start_time)/60/60\n",
    "        time_left_hrs = (elapsed_time_hrs / pcg_cmn_dec)\n",
    "        print(pcg_cmn_str, str(round(time_left_hrs,2))+'hrs left')\n",
    "        current_lat = start_lat\n",
    "        current_lon += lon_jump\n",
    "    return"
   ]
  },
  {
   "cell_type": "code",
   "execution_count": 5,
   "id": "77ed4d58",
   "metadata": {},
   "outputs": [
    {
     "ename": "ZeroDivisionError",
     "evalue": "float division by zero",
     "output_type": "error",
     "traceback": [
      "\u001b[1;31m---------------------------------------------------------------------------\u001b[0m",
      "\u001b[1;31mZeroDivisionError\u001b[0m                         Traceback (most recent call last)",
      "\u001b[1;32m<ipython-input-5-a665a930e8fa>\u001b[0m in \u001b[0;36m<module>\u001b[1;34m\u001b[0m\n\u001b[0;32m     13\u001b[0m \u001b[1;31m# jumps=0.05 --> 66,686 mobile towers\u001b[0m\u001b[1;33m\u001b[0m\u001b[1;33m\u001b[0m\u001b[1;33m\u001b[0m\u001b[0m\n\u001b[0;32m     14\u001b[0m \u001b[1;33m\u001b[0m\u001b[0m\n\u001b[1;32m---> 15\u001b[1;33m \u001b[0mscrape_data_from_given_area\u001b[0m\u001b[1;33m(\u001b[0m\u001b[0mstart_lat\u001b[0m\u001b[1;33m,\u001b[0m \u001b[0mstart_lon\u001b[0m\u001b[1;33m,\u001b[0m \u001b[0mend_lat\u001b[0m\u001b[1;33m,\u001b[0m \u001b[0mend_lon\u001b[0m\u001b[1;33m,\u001b[0m \u001b[0mlat_jump\u001b[0m\u001b[1;33m,\u001b[0m \u001b[0mlon_jump\u001b[0m\u001b[1;33m)\u001b[0m\u001b[1;33m\u001b[0m\u001b[1;33m\u001b[0m\u001b[0m\n\u001b[0m",
      "\u001b[1;32m<ipython-input-4-db850f5d5efb>\u001b[0m in \u001b[0;36mscrape_data_from_given_area\u001b[1;34m(start_lat, start_lon, end_lat, end_lon, lat_jump, lon_jump)\u001b[0m\n\u001b[0;32m     11\u001b[0m             \u001b[0mcurrent_time\u001b[0m \u001b[1;33m=\u001b[0m \u001b[0mtime\u001b[0m\u001b[1;33m.\u001b[0m\u001b[0mtime\u001b[0m\u001b[1;33m(\u001b[0m\u001b[1;33m)\u001b[0m\u001b[1;33m\u001b[0m\u001b[1;33m\u001b[0m\u001b[0m\n\u001b[0;32m     12\u001b[0m             \u001b[0melapsed_time\u001b[0m \u001b[1;33m=\u001b[0m \u001b[0mcurrent_time\u001b[0m \u001b[1;33m-\u001b[0m \u001b[0mstart_time\u001b[0m\u001b[1;33m\u001b[0m\u001b[1;33m\u001b[0m\u001b[0m\n\u001b[1;32m---> 13\u001b[1;33m             \u001b[0mtime_left\u001b[0m \u001b[1;33m=\u001b[0m \u001b[0melapsed_time\u001b[0m \u001b[1;33m/\u001b[0m \u001b[0mpcg_cmn_dec\u001b[0m\u001b[1;33m\u001b[0m\u001b[1;33m\u001b[0m\u001b[0m\n\u001b[0m\u001b[0;32m     14\u001b[0m             \u001b[0mprint\u001b[0m\u001b[1;33m(\u001b[0m\u001b[0mcurrent_lat\u001b[0m\u001b[1;33m,\u001b[0m \u001b[0mcurrent_lon\u001b[0m\u001b[1;33m,\u001b[0m  \u001b[0mpcg_cmn_str\u001b[0m\u001b[1;33m,\u001b[0m \u001b[0melapsed_time\u001b[0m\u001b[1;33m,\u001b[0m \u001b[0mtime_left\u001b[0m\u001b[1;33m,\u001b[0m \u001b[0mend\u001b[0m\u001b[1;33m=\u001b[0m\u001b[1;34m'\\r'\u001b[0m\u001b[1;33m)\u001b[0m\u001b[1;33m\u001b[0m\u001b[1;33m\u001b[0m\u001b[0m\n\u001b[0;32m     15\u001b[0m             \u001b[1;32mif\u001b[0m \u001b[0ma\u001b[0m \u001b[1;33m!=\u001b[0m \u001b[1;34m'{}'\u001b[0m\u001b[1;33m:\u001b[0m\u001b[1;33m\u001b[0m\u001b[1;33m\u001b[0m\u001b[0m\n",
      "\u001b[1;31mZeroDivisionError\u001b[0m: float division by zero"
     ]
    }
   ],
   "source": [
    "start_lat = -8.84892992\n",
    "start_lon = 35.846574479999994\n",
    "end_lat = 6.49954908\n",
    "end_lon = 43.69657447999955 #new end_lon (altura punto mas alto de españa, en galicia)\n",
    "lat_jump = 0.05\n",
    "lon_jump = 0.05\n",
    "# jumps=0.5 --> 55,779 mobile towers\n",
    "# jumps=0.4 --> 57,958 mobile towers\n",
    "# jumps=0.35 --> 58,116 mobile towers\n",
    "# jumps=0.3 --> 59,561 mobile towers\n",
    "# jumps=0.2 --> 62,072 mobile towers\n",
    "# jumps=0.1 --> 65,252 mobile towers\n",
    "# jumps=0.05 --> 66,686 mobile towers\n",
    "\n",
    "scrape_data_from_given_area(start_lat, start_lon, end_lat, end_lon, lat_jump, lon_jump)"
   ]
  },
  {
   "cell_type": "code",
   "execution_count": 30,
   "id": "8545e864",
   "metadata": {
    "collapsed": true,
    "jupyter": {
     "outputs_hidden": true
    }
   },
   "outputs": [
    {
     "data": {
      "text/plain": [
       "<sqlite3.Cursor at 0x27795344420>"
      ]
     },
     "execution_count": 30,
     "metadata": {},
     "output_type": "execute_result"
    }
   ],
   "source": [
    "# Copy db to new table without duplicates\n",
    "cur.execute('''CREATE TABLE IF NOT EXISTS scrapedgeodatadb_2 (id TEXT, data TEXT, UNIQUE(id, data))''') \n",
    "cur.execute('''\n",
    "INSERT INTO scrapedgeodatadb_2 SELECT DISTINCT id, data FROM scrapedgeodatadb;\n",
    "''')"
   ]
  },
  {
   "cell_type": "code",
   "execution_count": 83,
   "id": "beca5da6",
   "metadata": {
    "collapsed": true,
    "jupyter": {
     "outputs_hidden": true
    }
   },
   "outputs": [
    {
     "name": "stdout",
     "output_type": "stream",
     "text": [
      "[{'type': 'Feature', 'geometry': {'type': 'Point', 'coordinates': [-5.53875, 36.058613]}, 'properties': {'Gis_Latitud': '36.058611', 'Gis_Longitud': '-5.538750', 'Gis_ID': 'ANDR5208A', 'Gis_Etiqueta': 'Estación de telefonía móvil', 'Gis_Estilo': 'vcne.estaciones', 'Gis_Codigo': 'ORANGE ESPAGNE, S.A.U. - ANDR5208A', 'Tipo': 'Estación de telefonía móvil', 'Código': 'ORANGE ESPAGNE, S.A.U. - ANDR5208A', 'Dirección': 'VP POLÍGONO 46 PARCELA 91, S/N. TARIFA, CÁDIZ', 'Detalle': '@@<url-aplicacion>/detalleEstacion.do?emplazamiento=ANDR5208A'}, 'id': 'ANDR5208A'}]\n",
      "<class 'list'>\n"
     ]
    }
   ],
   "source": [
    "# Select data from database without duplicates, append all database rows together, \n",
    "# remove unwanted keys (there's 'type' and 'features', remove 'type', save only 'features'),\n",
    "mobile_towers_data = []\n",
    "cur.execute('SELECT data FROM scrapedgeodatadb_2')\n",
    "for row in cur:\n",
    "    mobile_towers_data.append(literal_eval(row[0])[\"features\"])"
   ]
  },
  {
   "cell_type": "code",
   "execution_count": 87,
   "id": "c21df060",
   "metadata": {
    "collapsed": true,
    "jupyter": {
     "outputs_hidden": true
    }
   },
   "outputs": [
    {
     "name": "stdout",
     "output_type": "stream",
     "text": [
      "[{'type': 'Feature', 'geometry': {'type': 'Point', 'coordinates': [-5.352475, 35.885765]}, 'properties': {'Gis_Latitud': '35.885764', 'Gis_Longitud': '-5.352475', 'Gis_ID': '102059', 'Gis_Etiqueta': 'Estación de telefonía móvil', 'Gis_Estilo': 'vcne.estaciones', 'Gis_Codigo': 'VODAFONE ESPAÑA, S.A. - 102059', 'Tipo': 'Estación de telefonía móvil', 'Código': 'VODAFONE ESPAÑA, S.A. - 102059', 'Dirección': 'VP POLÍGONO 1 PARCELA 247, S/N. CEUTA, CEUTA', 'Detalle': '@@<url-aplicacion>/detalleEstacion.do?emplazamiento=102059'}, 'id': '102059'}, {'type': 'Feature', 'geometry': {'type': 'Point', 'coordinates': [-5.35255, 35.885746]}, 'properties': {'Gis_Latitud': '35.885747', 'Gis_Longitud': '-5.352550', 'Gis_ID': '5100067', 'Gis_Etiqueta': 'Estación de telefonía móvil', 'Gis_Estilo': 'vcne.estaciones', 'Gis_Codigo': 'TELEFONICA MOVILES ESPAÑA, S.A.U. - 5100067', 'Tipo': 'Estación de telefonía móvil', 'Código': 'TELEFONICA MOVILES ESPAÑA, S.A.U. - 5100067', 'Dirección': 'VP POLÍGONO 1 PARCELA 247, S/N. CEUTA, CEUTA', 'Detalle': '@@<url-aplicacion>/detalleEstacion.do?emplazamiento=5100067'}, 'id': '5100067'}, {'type': 'Feature', 'geometry': {'type': 'Point', 'coordinates': [-5.3524, 35.88583]}, 'properties': {'Gis_Latitud': '35.885831', 'Gis_Longitud': '-5.352400', 'Gis_ID': 'CYMR1006A', 'Gis_Etiqueta': 'Estación de telefonía móvil', 'Gis_Estilo': 'vcne.estaciones', 'Gis_Codigo': 'ORANGE ESPAGNE, S.A.U. - CYMR1006A', 'Tipo': 'Estación de telefonía móvil', 'Código': 'ORANGE ESPAGNE, S.A.U. - CYMR1006A', 'Dirección': 'CR SERRALLO, 247. CEUTA, CEUTA', 'Detalle': '@@<url-aplicacion>/detalleEstacion.do?emplazamiento=CYMR1006A'}, 'id': 'CYMR1006A'}, {'type': 'Feature', 'geometry': {'type': 'Point', 'coordinates': [-5.329278, 35.884499]}, 'properties': {'Gis_Latitud': '35.884500', 'Gis_Longitud': '-5.329278', 'Gis_ID': '001822', 'Gis_Etiqueta': 'Estación de telefonía móvil', 'Gis_Estilo': 'vcne.estaciones', 'Gis_Codigo': 'VODAFONE ESPAÑA, S.A. - 001822', 'Tipo': 'Estación de telefonía móvil', 'Código': 'VODAFONE ESPAÑA, S.A. - 001822', 'Dirección': 'CL Mateo Álvarez, 2. Bloque 1, 2. CEUTA, CEUTA', 'Detalle': '@@<url-aplicacion>/detalleEstacion.do?emplazamiento=001822'}, 'id': '001822'}, {'type': 'Feature', 'geometry': {'type': 'Point', 'coordinates': [-5.329586, 35.884331]}, 'properties': {'Gis_Latitud': '35.884331', 'Gis_Longitud': '-5.329586', 'Gis_ID': '01822', 'Gis_Etiqueta': 'Estación de telefonía móvil', 'Gis_Estilo': 'vcne.estaciones', 'Gis_Codigo': 'VODAFONE ESPAÑA, S.A. - 01822', 'Tipo': 'Estación de telefonía móvil', 'Código': 'VODAFONE ESPAÑA, S.A. - 01822', 'Dirección': 'CL MATEO ÁLVAREZ, 2. CEUTA, CEUTA', 'Detalle': '@@<url-aplicacion>/detalleEstacion.do?emplazamiento=01822'}, 'id': '01822'}]\n",
      "66686 mobile towers in scraped data\n"
     ]
    }
   ],
   "source": [
    "# flatten 'features' out (this will provide you with a seperate term for each mobile tower)\n",
    "# print(len(flat_list)) to get number of mobile towers retrieved\n",
    "flat_mobile_towers_data = [item for sublist in mobile_towers_data for item in sublist]\n",
    "print(flat_mobile_towers_data[0:5])\n",
    "print(len(flat_mobile_towers_data), \"mobile towers in scraped data\")\n",
    "\n",
    "# You could even check if you have all the towers by checking if any cell in the database has 1000 towers \n",
    "# (number of times its says 'type': 'Feature' in a row in sqlite db)\n",
    "# (if case exists, we can assume we would need more API calls in that area)"
   ]
  },
  {
   "cell_type": "code",
   "execution_count": null,
   "id": "eb7f893c",
   "metadata": {},
   "outputs": [],
   "source": []
  },
  {
   "cell_type": "code",
   "execution_count": null,
   "id": "cad8c5db",
   "metadata": {},
   "outputs": [],
   "source": []
  },
  {
   "cell_type": "code",
   "execution_count": null,
   "id": "65a7cd24",
   "metadata": {},
   "outputs": [],
   "source": []
  },
  {
   "cell_type": "code",
   "execution_count": 43,
   "id": "e5ee4d07",
   "metadata": {},
   "outputs": [],
   "source": [
    "#Create and open csv file with the useful data retrieved\n",
    "data_file = open('mobile_towers4.csv', 'w', newline='')\n",
    "csv_writer = csv.writer(data_file)\n",
    " \n",
    "count = 0\n",
    "for data in flat_list:\n",
    "    if count == 0:\n",
    "        header = data['properties'].keys()\n",
    "        csv_writer.writerow(header)\n",
    "        count += 1\n",
    "    csv_writer.writerow(data['properties'].values())\n",
    " \n",
    "os.startfile(\"mobile_towers4.csv\")\n",
    "data_file.close()"
   ]
  },
  {
   "cell_type": "code",
   "execution_count": 16,
   "id": "f864d29c",
   "metadata": {},
   "outputs": [],
   "source": [
    "os.remove(\"mobile_towers.csv\")"
   ]
  }
 ],
 "metadata": {
  "kernelspec": {
   "display_name": "Python 3",
   "language": "python",
   "name": "python3"
  },
  "language_info": {
   "codemirror_mode": {
    "name": "ipython",
    "version": 3
   },
   "file_extension": ".py",
   "mimetype": "text/x-python",
   "name": "python",
   "nbconvert_exporter": "python",
   "pygments_lexer": "ipython3",
   "version": "3.8.8"
  }
 },
 "nbformat": 4,
 "nbformat_minor": 5
}
